{
 "cells": [
  {
   "cell_type": "code",
   "execution_count": null,
   "metadata": {
    "pycharm": {
     "name": "#%% not necessary if using python -m\n"
    }
   },
   "outputs": [],
   "source": [
    "import sys; sys.path.append('..')"
   ]
  },
  {
   "cell_type": "code",
   "execution_count": null,
   "metadata": {
    "pycharm": {
     "name": "#%%\n"
    }
   },
   "outputs": [],
   "source": [
    "import pickle\n",
    "from collections import defaultdict\n",
    "from itertools import accumulate\n",
    "from pathlib import Path\n",
    "import numpy as np\n",
    "from tqdm import tqdm\n",
    "from util import ds_names"
   ]
  },
  {
   "cell_type": "code",
   "execution_count": null,
   "metadata": {
    "pycharm": {
     "name": "#%%\n"
    }
   },
   "outputs": [],
   "source": [
    "p_raw_data = Path('../data/raw_data')\n",
    "p_incident = Path('../data/incident')\n",
    "p_incident.mkdir(exist_ok=True)\n",
    "\n",
    "for ds_name in ds_names:\n",
    "    p_raw_data_ds = p_raw_data / ds_name\n",
    "    p_incident_ds = p_incident / ds_name\n",
    "    p_incident_ds.mkdir(exist_ok=True)\n",
    "\n",
    "    nverts = []\n",
    "    with (p_raw_data_ds / '{}-nverts.txt'.format(ds_name)).open() as f:\n",
    "        while d := f.readline():\n",
    "            nverts.append(int(d))\n",
    "    m = len(nverts)\n",
    "\n",
    "    simplices = []\n",
    "    with (p_raw_data_ds / '{}-simplices.txt'.format(ds_name)).open() as f:\n",
    "        while d := f.readline():\n",
    "            simplices.append(int(d))\n",
    "\n",
    "    segments = [0] + list(accumulate(nverts))\n",
    "    edges = set()\n",
    "    i2edges = dict()\n",
    "    v2edges = defaultdict(set)\n",
    "\n",
    "    for i in tqdm(range(m)):\n",
    "        e = tuple(sorted(set(simplices[segments[i]:segments[i + 1]])))\n",
    "        if len(e) < 2 or e in edges:\n",
    "            continue\n",
    "        edges.add(e)\n",
    "        for v in e:\n",
    "            v2edges[v].add(len(i2edges))\n",
    "        i2edges[len(i2edges)] = set(e)\n",
    "    degrees = [len(E_v) for E_v in v2edges.values()]\n",
    "    sizes = [len(e) for e in i2edges.values()]\n",
    "    with (p_incident_ds / 'i2edges.pkl').open('wb') as f:\n",
    "        pickle.dump(i2edges, f)\n",
    "    with (p_incident_ds / 'v2edges.pkl').open('wb') as f:\n",
    "        pickle.dump(v2edges, f)\n",
    "    print('Dataset {ds}, |V| = {n}, |E| = {m},'.format(ds=ds_name, n=len(v2edges), m=len(i2edges)) +\n",
    "          ' max./avg. d(v) = {m} / {a:.2f},'.format(a=np.mean(degrees), m=max(degrees)) +\n",
    "          ' max./avg. |e| = {m} / {a:.2f}'.format(a=np.mean(sizes), m=max(sizes)))"
   ]
  }
 ],
 "metadata": {
  "kernelspec": {
   "display_name": "Python 3 (ipykernel)",
   "language": "python",
   "name": "python3"
  },
  "language_info": {
   "codemirror_mode": {
    "name": "ipython",
    "version": 3
   },
   "file_extension": ".py",
   "mimetype": "text/x-python",
   "name": "python",
   "nbconvert_exporter": "python",
   "pygments_lexer": "ipython3",
   "version": "3.9.7"
  }
 },
 "nbformat": 4,
 "nbformat_minor": 1
}
