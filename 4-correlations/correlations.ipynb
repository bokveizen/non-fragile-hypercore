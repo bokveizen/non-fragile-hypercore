{
 "cells": [
  {
   "cell_type": "code",
   "execution_count": null,
   "metadata": {
    "pycharm": {
     "name": "#%% not necessary if using python -m\n"
    }
   },
   "outputs": [],
   "source": [
    "import sys; sys.path.append('..')"
   ]
  },
  {
   "cell_type": "code",
   "execution_count": null,
   "metadata": {
    "pycharm": {
     "name": "#%%\n"
    }
   },
   "outputs": [],
   "source": [
    "from itertools import combinations\n",
    "import pickle\n",
    "from collections import defaultdict\n",
    "from fractions import Fraction\n",
    "from pathlib import Path\n",
    "import matplotlib.pyplot as plt\n",
    "import numpy as np\n",
    "from tqdm import tqdm\n",
    "from util import step_plot\n",
    "import networkx as nx\n",
    "from scipy.stats import pearsonr\n",
    "import seaborn as sns"
   ]
  },
  {
   "cell_type": "code",
   "execution_count": null,
   "metadata": {
    "pycharm": {
     "name": "#%%\n"
    }
   },
   "outputs": [],
   "source": [
    "p_incident = Path('../data/incident')\n",
    "p_core = Path('../data/core')\n",
    "p_CE = Path('../data/clique_expansion')\n",
    "p_CE.mkdir(exist_ok=True)\n",
    "p_dumps = Path('dumps')\n",
    "p_dumps.mkdir(exist_ok=True)\n",
    "p_figures = Path('figures')\n",
    "p_figures.mkdir(exist_ok=True)\n",
    "\n",
    "plt.rcParams.update({'font.size': 30, 'text.usetex': False, 'lines.linewidth': 7})\n",
    "for ds_name in ds_names:\n",
    "    p_incident_ds = p_incident / ds_name\n",
    "    p_CE_ds = p_CE / ds_name\n",
    "    p_CE_ds.mkdir(exist_ok=True)\n",
    "    with (p_incident_ds / 'i2edges.pkl').open('rb') as f:\n",
    "        i2edges = pickle.load(f)\n",
    "    with (p_incident_ds / 'v2edges.pkl').open('rb') as f:\n",
    "        v2edges = pickle.load(f)\n",
    "    vv2co_deg = defaultdict(int)\n",
    "    edges_CE = []\n",
    "    for e in tqdm(list(i2edges.values())):\n",
    "        for v_1, v_2 in combinations(e, 2):\n",
    "            if v_1 > v_2:\n",
    "                v_1, v_2 = v_2, v_1\n",
    "            vv2co_deg[(v_1, v_2)] += 1\n",
    "            edges_CE.append((v_1, v_2))\n",
    "    CE_U = nx.Graph(vv2co_deg.keys())\n",
    "    print('Clique expansion (unweighted) done!')\n",
    "    CE_W = nx.MultiGraph(edges_CE)\n",
    "    print('Clique expansion (weighted) done!')\n",
    "    with (p_CE_ds / 'CE_U.pkl').open('wb') as f:\n",
    "        pickle.dump(CE_U, f)\n",
    "    with (p_CE_ds / 'CE_W.pkl').open('wb') as f:\n",
    "        pickle.dump(CE_W, f)\n",
    "    v2cU = nx.core_number(CE_U)\n",
    "    print('Coreness of clique expansion (unweighted) done!')\n",
    "    v2cW = dict()\n",
    "    k = 1\n",
    "    while n_core := CE_W.number_of_nodes():\n",
    "        print('{}'.format(n_core), end='\\r')\n",
    "        removed = False\n",
    "        for v in list(CE_W.nodes):\n",
    "            if CE_W.degree[v] <= k:\n",
    "                v2cW[v] = k\n",
    "                CE_W.remove_node(v)\n",
    "                removed = True\n",
    "        if not removed:\n",
    "            k = min(dict(CE_W.degree()).values())\n",
    "    print('Coreness of clique expansion (weighted) done!')\n",
    "    with (p_CE_ds / 'v2cU.pkl').open('wb') as f:\n",
    "        pickle.dump(v2cU, f)\n",
    "    with (p_CE_ds / 'v2cW.pkl').open('wb') as f:\n",
    "        pickle.dump(v2cW, f)\n",
    "    p_core_ds = p_core / ds_name\n",
    "    nodes_sorted = sorted(v2edges)\n",
    "    degree_sorted = [len(v2edges[v]) for v in nodes_sorted]\n",
    "    cU_sorted = [v2cU[v] for v in nodes_sorted]\n",
    "    cW_sorted = [v2cW[v] for v in nodes_sorted]\n",
    "    t2sim_deg = dict()\n",
    "    t2sim_cU = dict()\n",
    "    t2sim_cW = dict()\n",
    "    for c_t in tqdm(list(p_core_ds.glob('c*.pkl'))):\n",
    "        t = Fraction(c_t.name[2:-4].replace('-', '/'))\n",
    "        with c_t.open('rb') as f:\n",
    "            v2c_t = pickle.load(f)\n",
    "        c_t_sorted = [v2c_t[v] for v in nodes_sorted]\n",
    "        sim_deg, _ = pearsonr(c_t_sorted, degree_sorted)\n",
    "        sim_cU, _ = pearsonr(c_t_sorted, cU_sorted)\n",
    "        sim_cW, _ = pearsonr(c_t_sorted, cW_sorted)\n",
    "        t2sim_deg[t] = sim_deg\n",
    "        t2sim_cU[t] = sim_cU\n",
    "        t2sim_cW[t] = sim_cW\n",
    "    p_dumps_ds = p_dumps / ds_name\n",
    "    p_dumps_ds.mkdir(exist_ok=True)\n",
    "    with (p_dumps_ds / 't2sim_deg.pkl').open('wb') as f:\n",
    "        pickle.dump(t2sim_deg, f)\n",
    "    with (p_dumps_ds / 't2sim_cU.pkl').open('wb') as f:\n",
    "        pickle.dump(t2sim_cU, f)\n",
    "    with (p_dumps_ds / 't2sim_cW.pkl').open('wb') as f:\n",
    "        pickle.dump(t2sim_cW, f)\n",
    "\n",
    "    p_figures_ds = p_figures / ds_name\n",
    "    p_figures_ds.mkdir(exist_ok=True)\n",
    "    plt.clf()\n",
    "    step_plot(t2sim_deg)\n",
    "    step_plot(t2sim_cU)\n",
    "    step_plot(t2sim_cW)\n",
    "    plt.xlabel('t')\n",
    "    plt.ylabel('Pearson\\'s r\\nw/ t-hypercoreness')\n",
    "    plt.savefig(p_figures_ds / 'sim_with.png', bbox_inches='tight')\n",
    "    plt.savefig(p_figures_ds / 'sim_with.pdf', bbox_inches='tight')\n",
    "    plt.show()"
   ]
  },
  {
   "cell_type": "code",
   "execution_count": null,
   "metadata": {
    "pycharm": {
     "is_executing": true,
     "name": "#%%\n"
    }
   },
   "outputs": [],
   "source": [
    "plt.rcParams.update({'font.size': 30, 'text.usetex': False, 'lines.linewidth': 7})\n",
    "t_samples = np.linspace(0.005, 0.995, 100)\n",
    "for ds_name in ds_names:\n",
    "    p_core_ds = p_core / ds_name\n",
    "    possible_t = [Fraction(c_t.name[2:-4].replace('-', '/')) for c_t in p_core_ds.glob('c*.pkl')]\n",
    "    t_chosen = [min(t for t in possible_t if t >= t_sample) for t_sample in t_samples]\n",
    "    c_t_lists = []\n",
    "    nodes = None\n",
    "    for i_t, t in tqdm(list(enumerate(t_chosen))):\n",
    "        with (p_core_ds / 'c_{}.pkl'.format(str(t).replace('/', '-'))).open('rb') as f:\n",
    "            v2c_t = pickle.load(f)\n",
    "        if i_t == 0:\n",
    "            nodes = sorted(v2c_t)\n",
    "        c_t_lists.append([v2c_t[v] for v in nodes])\n",
    "    sim_among_matrix = np.ones((100, 100))\n",
    "    for i_1, i_2 in tqdm(list(combinations(range(100), 2))):\n",
    "        c_t_list_1 = c_t_lists[i_1]\n",
    "        c_t_list_2 = c_t_lists[i_2]\n",
    "        r, _ = pearsonr(c_t_list_1, c_t_list_2)\n",
    "        sim_among_matrix[i_1][i_2] = sim_among_matrix[i_2][i_1] = r\n",
    "\n",
    "    p_dumps_ds = p_dumps / ds_name\n",
    "    with (p_dumps_ds / 'sim_among_matrix.pkl').open('wb') as f:\n",
    "        pickle.dump(sim_among_matrix, f)\n",
    "\n",
    "    p_figures_ds = p_figures / ds_name\n",
    "    plt.clf()\n",
    "    ax = sns.heatmap(sim_among_matrix, xticklabels=False, yticklabels=False, cmap='RdBu')\n",
    "    plt.xticks([0, 20, 40, 60, 80, 100], ['0', '0.2', '0.4', '0.6', '0.8', '1'])\n",
    "    plt.yticks([0, 20, 40, 60, 80, 100], ['0', '0.2', '0.4', '0.6', '0.8', '1'])\n",
    "    plt.xlabel('t')\n",
    "    plt.savefig(p_figures_ds / 'sim_among.png', bbox_inches='tight')\n",
    "    plt.savefig(p_figures_ds / 'sim_among.pdf', bbox_inches='tight')\n",
    "    plt.show()"
   ]
  }
 ],
 "metadata": {
  "kernelspec": {
   "display_name": "Python 3 (ipykernel)",
   "language": "python",
   "name": "python3"
  },
  "language_info": {
   "codemirror_mode": {
    "name": "ipython",
    "version": 3
   },
   "file_extension": ".py",
   "mimetype": "text/x-python",
   "name": "python",
   "nbconvert_exporter": "python",
   "pygments_lexer": "ipython3",
   "version": "3.9.7"
  }
 },
 "nbformat": 4,
 "nbformat_minor": 1
}
