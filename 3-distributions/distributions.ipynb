{
 "cells": [
  {
   "cell_type": "code",
   "execution_count": null,
   "metadata": {
    "pycharm": {
     "name": "#%% not necessary if using python -m\n"
    }
   },
   "outputs": [],
   "source": [
    "import sys; sys.path.append('..')"
   ]
  },
  {
   "cell_type": "code",
   "execution_count": null,
   "metadata": {
    "pycharm": {
     "name": "#%%\n"
    }
   },
   "outputs": [],
   "source": [
    "import pickle\n",
    "from collections import Counter\n",
    "from fractions import Fraction\n",
    "from pathlib import Path\n",
    "import matplotlib.colors as colors\n",
    "import matplotlib.pyplot as plt\n",
    "import numpy as np\n",
    "import powerlaw\n",
    "from scipy.stats import linregress\n",
    "from tqdm import tqdm\n",
    "from util import ds_names, ds_names_short, colors_group, step_plot"
   ]
  },
  {
   "cell_type": "code",
   "execution_count": null,
   "metadata": {
    "pycharm": {
     "name": "#%%\n"
    },
    "scrolled": true
   },
   "outputs": [],
   "source": [
    "p_core = Path('../data/core')\n",
    "p_figures = Path('figures')\n",
    "p_figures.mkdir(exist_ok=True)\n",
    "p_dumps = Path('dumps')\n",
    "p_figures.mkdir(exist_ok=True)\n",
    "bounds = np.array([-100, -10, -1, 0., 1, 100, 10000.])\n",
    "norm = colors.BoundaryNorm(boundaries=bounds, ncolors=256)\n",
    "plt.rcParams.update({'font.size': 30, 'text.usetex': True, 'lines.linewidth': 7})\n",
    "colormap = plt.get_cmap('RdBu_r')\n",
    "for ds_name in ds_names:\n",
    "    p_core_ds = p_core / ds_name\n",
    "    ds_index = ds_names.index(ds_name)\n",
    "    p_figures_ds = p_figures / ds_name\n",
    "    p_figures_ds.mkdir(exist_ok=True)\n",
    "    p_dumps_ds = p_dumps / ds_name\n",
    "    p_dumps_ds.mkdir(exist_ok=True)\n",
    "    N = None\n",
    "    t2lll_max = dict()\n",
    "    t2plR2 = dict()\n",
    "    for c_t in tqdm(list(p_core_ds.glob('c*.pkl'))):\n",
    "        t = Fraction(c_t.name[2:-4].replace('-', '/'))\n",
    "        with c_t.open('rb') as f:\n",
    "            v2c_t = pickle.load(f)\n",
    "        k_max = max(v2c_t.values())\n",
    "        if N is None:\n",
    "            N = len(v2c_t)\n",
    "        cnt_c_t = Counter(v2c_t.values())\n",
    "        cnt_rem = dict()\n",
    "        cnt_rem[1] = len(v2c_t)\n",
    "        cur_cnt = len(v2c_t)\n",
    "        for k in range(1, k_max + 1):\n",
    "            cur_cnt -= cnt_c_t[k]\n",
    "            cnt_rem[k + 1] = cur_cnt\n",
    "            if not cur_cnt:\n",
    "                break\n",
    "        X = list(range(1, k_max + 1))\n",
    "        Y = [cnt_rem[x] for x in X]\n",
    "        slope, intercept, r_value, _, _ = linregress(np.log10(X), np.log10(Y))\n",
    "        r2 = r_value ** 2\n",
    "        plt.clf()\n",
    "        plt.loglog(X, Y)\n",
    "        X = np.linspace(1, k_max, 10000)\n",
    "        Y = [x ** float(slope) * 10 ** float(intercept) for x in X]\n",
    "        plt.plot(X, Y, 'r--', linewidth=7)\n",
    "        plt.xlabel('k')\n",
    "        plt.ylabel('\\# nodes with\\n' + r'$t$-hypercorenss $\\geq k$')\n",
    "        plt.title('$t = {t}$, '.format(t=t) + r'{$\\mathbf{R^2 = \\underline{%.2f}}$}' % r2)\n",
    "        plt.savefig(p_figures_ds / c_t.name[2:].replace('pkl', 'png'), bbox_inches='tight')\n",
    "        plt.savefig(p_figures_ds / c_t.name[2:].replace('pkl', 'pdf'), bbox_inches='tight')\n",
    "        # plt.show()\n",
    "        t2plR2[t] = r2\n",
    "        pl_fit = powerlaw.Fit(list(v2c_t.values()), verbose=False)\n",
    "        lll_pl, _ = pl_fit.loglikelihood_ratio('power_law', 'exponential')\n",
    "        lll_ln, _ = pl_fit.loglikelihood_ratio('lognormal', 'exponential')\n",
    "        lll_max = max(lll_pl, lll_ln)\n",
    "        t2lll_max[t] = lll_max\n",
    "        # print(lll_max)\n",
    "    with (p_dumps_ds / 't2plR2.pkl').open('wb') as f:\n",
    "        pickle.dump(t2plR2, f)\n",
    "    with (p_dumps_ds / 't2lll_max.pkl').open('wb') as f:\n",
    "        pickle.dump(t2lll_max, f)\n",
    "\n",
    "    plt.clf()\n",
    "    step_plot(t2lll_max)\n",
    "    plt.xlabel('t')\n",
    "    plt.ylabel('max. log-likelihood')\n",
    "    plt.yscale('log')\n",
    "    plt.savefig(p_figures_ds / 'lll_max.png', bbox_inches='tight')\n",
    "    plt.savefig(p_figures_ds / 'lll_max.pdf', bbox_inches='tight')\n",
    "    plt.show()\n",
    "\n",
    "    plt.clf()\n",
    "    step_plot(t2plR2)\n",
    "    plt.xlabel('t')\n",
    "    plt.ylabel('$R^2$ of power-law fitting')\n",
    "    plt.savefig(p_figures_ds / 'plr2.png', bbox_inches='tight')\n",
    "    plt.savefig(p_figures_ds / 'plr2.pdf', bbox_inches='tight')\n",
    "    plt.show()\n"
   ]
  },
  {
   "cell_type": "code",
   "execution_count": null,
   "metadata": {
    "pycharm": {
     "name": "#%%\n"
    }
   },
   "outputs": [],
   "source": [
    "S = 5\n",
    "t_samples = [i / S for i in range(S + 1)]\n",
    "lll_max_matrix = np.zeros((len(ds_names), len(t_samples)))\n",
    "plt.rcParams.update({'font.size': 15, 'text.usetex': False, 'lines.linewidth': 7})\n",
    "for ds_index, ds_name in enumerate(ds_names):\n",
    "    p_dumps_ds = p_dumps / ds_name\n",
    "    with (p_dumps_ds / 't2lll_max.pkl').open('rb') as f:\n",
    "        t2lll_max = pickle.load(f)\n",
    "    t_chosen = [min(t for t in t2lll_max if t >= t_sample) for t_sample in t_samples]\n",
    "    for i, t in enumerate(t_chosen):\n",
    "        lll_max_matrix[ds_index][i] = t2lll_max[t]\n",
    "\n",
    "plt.clf()\n",
    "sm = plt.cm.ScalarMappable(cmap=colormap, norm=norm)\n",
    "sm._A = []\n",
    "plt.imshow(lll_max_matrix, cmap=colormap, norm=norm, aspect='auto')\n",
    "ax = plt.gca()\n",
    "ax.set_yticks(list(range(len(ds_names))))\n",
    "ax.set_yticklabels(ds_names_short)\n",
    "ax.set_xticks(list(range(S+1)))\n",
    "ax.set_xticklabels(map(str, t_samples))\n",
    "for ticklabel in ax.get_yticklabels():\n",
    "    ticklabel_text = ticklabel.get_text()\n",
    "    ds_index = ds_names_short.index(ticklabel_text)\n",
    "    tickcolor = colors_group[ds_index]\n",
    "    ticklabel.set_color(tickcolor)\n",
    "plt.colorbar(sm)\n",
    "plt.xlabel('t')\n",
    "plt.savefig('lll_max_matrix.png', bbox_inches='tight')\n",
    "plt.savefig('lll_max_matrix.pdf', bbox_inches='tight')\n",
    "plt.show()\n",
    "\n"
   ]
  }
 ],
 "metadata": {
  "kernelspec": {
   "display_name": "Python 3 (ipykernel)",
   "language": "python",
   "name": "python3"
  },
  "language_info": {
   "codemirror_mode": {
    "name": "ipython",
    "version": 3
   },
   "file_extension": ".py",
   "mimetype": "text/x-python",
   "name": "python",
   "nbconvert_exporter": "python",
   "pygments_lexer": "ipython3",
   "version": "3.9.7"
  }
 },
 "nbformat": 4,
 "nbformat_minor": 1
}
