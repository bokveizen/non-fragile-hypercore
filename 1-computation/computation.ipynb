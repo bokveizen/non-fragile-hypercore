{
 "cells": [
  {
   "cell_type": "code",
   "execution_count": null,
   "metadata": {
    "pycharm": {
     "name": "#%% not necessary if using python -m\n"
    }
   },
   "outputs": [],
   "source": [
    "import sys; sys.path.append('..')"
   ]
  },
  {
   "cell_type": "code",
   "execution_count": null,
   "metadata": {
    "pycharm": {
     "name": "#%%\n"
    }
   },
   "outputs": [],
   "source": [
    "import math\n",
    "import pickle\n",
    "from pathlib import Path\n",
    "from tqdm import tqdm\n",
    "from util import max_size2possible_t, ds_names"
   ]
  },
  {
   "cell_type": "code",
   "execution_count": null,
   "metadata": {
    "pycharm": {
     "name": "#%%\n"
    }
   },
   "outputs": [],
   "source": [
    "p_incident = Path('../data/incident')\n",
    "p_core = Path('../data/core')\n",
    "p_core.mkdir(exist_ok=True)\n",
    "for ds_name in ds_names:\n",
    "    p_incident_ds = p_incident / ds_name\n",
    "    p_core_ds = p_core / ds_name\n",
    "    p_core_ds.mkdir(exist_ok=True)\n",
    "    with (p_incident_ds / 'i2edges.pkl').open('rb') as f:\n",
    "        i2edges = pickle.load(f)\n",
    "    with (p_incident_ds / 'v2edges.pkl').open('rb') as f:\n",
    "        v2edges = pickle.load(f)\n",
    "    n, m = len(v2edges), len(i2edges)\n",
    "    max_size = max(len(e) for e in i2edges.values())\n",
    "    possible_t = max_size2possible_t[max_size]\n",
    "    # v2t_k = defaultdict(list)  # v2t_k[v] = [[t, C_t(v)] for t in possible_t]\n",
    "    print('Dataset {ds}, # possible t = {nt}'.format(ds=ds_name, nt=len(possible_t)))\n",
    "    for i, t in tqdm(list(enumerate(possible_t))):\n",
    "        v2coreness_t = dict()\n",
    "        if i:\n",
    "            with (p_incident_ds / 'i2edges.pkl').open('rb') as f:\n",
    "                i2edges = pickle.load(f)\n",
    "            with (p_incident_ds / 'v2edges.pkl').open('rb') as f:\n",
    "                v2edges = pickle.load(f)\n",
    "        i2th = dict()\n",
    "        for i_e, e in i2edges.items():\n",
    "            i2th[i_e] = max(math.ceil(t * len(e)), 2)\n",
    "        k = None\n",
    "        nodes_to_remove = set()\n",
    "        while i2edges:\n",
    "            if not nodes_to_remove:\n",
    "                k = min(len(E_v) for E_v in v2edges.values()) + 1\n",
    "                nodes_to_remove = set()\n",
    "                for v, E_v in v2edges.items():\n",
    "                    if len(E_v) == k - 1:\n",
    "                        nodes_to_remove.add(v)\n",
    "                        v2coreness_t[v] = k - 1\n",
    "                continue\n",
    "            edges_to_check = set()\n",
    "            for v in nodes_to_remove:\n",
    "                edges_to_check.update(v2edges[v])\n",
    "                del v2edges[v]\n",
    "            assert edges_to_check.issubset(i2edges)\n",
    "            nodes_to_remove_next = set()\n",
    "            for i_e in edges_to_check:\n",
    "                i2edges[i_e] -= nodes_to_remove\n",
    "                if len(i2edges[i_e]) < i2th[i_e]:\n",
    "                    for v in i2edges[i_e]:\n",
    "                        if v not in v2edges:\n",
    "                            continue\n",
    "                        if len(v2edges[v]) == k:\n",
    "                            nodes_to_remove_next.add(v)\n",
    "                            v2coreness_t[v] = k - 1\n",
    "                        v2edges[v].remove(i_e)\n",
    "                    del i2edges[i_e]\n",
    "            nodes_to_remove = nodes_to_remove_next.copy()\n",
    "        assert len(v2coreness_t) == n\n",
    "        with (p_core_ds / 'c_{}.pkl'.format(str(t).replace('/', '-'))).open('wb') as f:\n",
    "            pickle.dump(v2coreness_t, f)\n",
    "        # for v, k in v2coreness_t.items():\n",
    "        #     v2t_k[v].append([t, k])\n",
    "    # with (p_core_ds / 'v2tk.pkl').open('wb') as f:\n",
    "    #     pickle.dump(v2t_k, f)"
   ]
  }
 ],
 "metadata": {
  "kernelspec": {
   "display_name": "Python 3 (ipykernel)",
   "language": "python",
   "name": "python3"
  },
  "language_info": {
   "codemirror_mode": {
    "name": "ipython",
    "version": 3
   },
   "file_extension": ".py",
   "mimetype": "text/x-python",
   "name": "python",
   "nbconvert_exporter": "python",
   "pygments_lexer": "ipython3",
   "version": "3.9.7"
  }
 },
 "nbformat": 4,
 "nbformat_minor": 1
}
