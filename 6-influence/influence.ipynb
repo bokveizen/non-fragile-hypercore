{
 "cells": [
  {
   "cell_type": "code",
   "execution_count": null,
   "metadata": {
    "pycharm": {
     "name": "#%% not necessary if using python -m\n"
    }
   },
   "outputs": [],
   "source": [
    "import sys; sys.path.append('..')"
   ]
  },
  {
   "cell_type": "code",
   "execution_count": null,
   "metadata": {
    "pycharm": {
     "name": "#%%\n"
    }
   },
   "outputs": [],
   "source": [
    "from itertools import combinations\n",
    "import pickle\n",
    "from collections import defaultdict\n",
    "from fractions import Fraction\n",
    "from pathlib import Path\n",
    "import matplotlib.pyplot as plt\n",
    "import numpy as np\n",
    "from tqdm import tqdm\n",
    "from util import step_plot, ds_names, ds_names_short, colors_full, linestyles, colors_group\n",
    "import networkx as nx\n",
    "from scipy.stats import pearsonr\n",
    "import seaborn as sns\n",
    "from collections import deque"
   ]
  },
  {
   "cell_type": "code",
   "execution_count": null,
   "metadata": {
    "pycharm": {
     "name": "#%%\n"
    }
   },
   "outputs": [],
   "source": [
    "p_CE = Path('../data/clique_expansion')\n",
    "p_LCC = Path('../data/largest_connected_component')\n",
    "p_LCC.mkdir(exist_ok=True)\n",
    "for ds_name in ds_names:\n",
    "    p_CE_ds = p_CE / ds_name\n",
    "    with (p_CE_ds / 'CE_U.pkl').open('rb') as f:\n",
    "        CE_U = pickle.load(f)\n",
    "    LCC = max(nx.connected_components(CE_U), key=len)\n",
    "    with (p_LCC / '{}.pkl'.format(ds_name)).open('wb') as f:\n",
    "        pickle.dump(LCC, f)\n",
    "    print('Dataset {},'.format(ds_name), 'total number of nodes = {},'.format(CE_U.number_of_nodes()),\n",
    "          'number of nodes in the LCC = {}'.format(len(LCC)))"
   ]
  },
  {
   "cell_type": "code",
   "execution_count": null,
   "metadata": {},
   "outputs": [],
   "source": [
    "p_data_cpp = Path('../data_cpp')\n",
    "p_data_cpp.mkdir(exist_ok=True)\n",
    "p_incident = Path('../data/incident')\n",
    "p_LCC = Path('../data/largest_connected_component')\n",
    "\n",
    "for ds_name in ds_names:\n",
    "    print(ds_name)\n",
    "    p_incident_ds = p_incident / ds_name\n",
    "    with (p_incident_ds / 'i2edges.pkl').open('rb') as f:\n",
    "        i2edges = pickle.load(f)\n",
    "    with (p_incident_ds / 'v2edges.pkl').open('rb') as f:\n",
    "        v2edges = pickle.load(f)\n",
    "\n",
    "    with open(p_data_cpp / '{}_edges.txt'.format(ds_name), 'w') as f:\n",
    "        for e in i2edges.values():\n",
    "            f.write('\\t'.join([str(v) for v in e]) + '\\n')\n",
    "\n",
    "    with open(p_data_cpp / '{}_degrees.txt'.format(ds_name), 'w') as f:\n",
    "        for v, E_v in v2edges.items():\n",
    "            f.write('{}\\t{}\\n'.format(v, len(E_v)))\n",
    "\n",
    "    with open(p_data_cpp / '{}_incident.txt'.format(ds_name), 'w') as f:\n",
    "        for v, E_v in v2edges.items():\n",
    "            f.write(str(v) + '\\t' + ','.join([str(e) for e in E_v]) + '\\n')\n",
    "\n",
    "    with (p_LCC / '{}.pkl'.format(ds_name)).open('rb') as f:\n",
    "        LCC = pickle.load(f)\n",
    "\n",
    "    with open(p_data_cpp / '{}_cc.txt'.format(ds_name), 'w') as f:\n",
    "        for v in LCC:\n",
    "            f.write('{}\\n'.format(v))\n"
   ]
  }
 ],
 "metadata": {
  "kernelspec": {
   "display_name": "Python 3 (ipykernel)",
   "language": "python",
   "name": "python3"
  },
  "language_info": {
   "codemirror_mode": {
    "name": "ipython",
    "version": 3
   },
   "file_extension": ".py",
   "mimetype": "text/x-python",
   "name": "python",
   "nbconvert_exporter": "python",
   "pygments_lexer": "ipython3",
   "version": "3.9.7"
  }
 },
 "nbformat": 4,
 "nbformat_minor": 1
}
