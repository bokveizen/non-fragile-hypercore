{
 "cells": [
  {
   "cell_type": "code",
   "execution_count": null,
   "metadata": {
    "pycharm": {
     "name": "#%% not necessary if using python -m\n"
    }
   },
   "outputs": [],
   "source": [
    "import sys; sys.path.append('..')"
   ]
  },
  {
   "cell_type": "code",
   "execution_count": null,
   "metadata": {
    "pycharm": {
     "name": "#%%\n"
    }
   },
   "outputs": [],
   "source": [
    "import math\n",
    "import pickle\n",
    "from collections import Counter\n",
    "from fractions import Fraction\n",
    "from pathlib import Path\n",
    "import matplotlib.pyplot as plt\n",
    "import numpy as np\n",
    "from tqdm import tqdm\n",
    "from util import ds_names, ds_names_short, colors_group, step_plot\n",
    "from itertools import combinations\n",
    "from scipy.stats import pearsonr\n",
    "import seaborn as sns"
   ]
  },
  {
   "cell_type": "code",
   "execution_count": null,
   "metadata": {
    "pycharm": {
     "name": "#%%\n"
    }
   },
   "outputs": [],
   "source": [
    "p_incident = Path('../data/incident')\n",
    "p_core = Path('../data/core')\n",
    "p_figures = Path('figures')\n",
    "p_figures.mkdir(exist_ok=True)\n",
    "p_dumps = Path('dumps')\n",
    "p_dumps.mkdir(exist_ok=True)\n",
    "plt.rcParams.update({'font.size': 30, 'text.usetex': False, 'lines.linewidth': 7})\n",
    "for ds_index, ds_name in enumerate(ds_names):\n",
    "    p_incident_ds = p_incident / ds_name\n",
    "    p_dumps_ds = p_dumps / ds_name\n",
    "    p_dumps_ds.mkdir(exist_ok=True)\n",
    "    with (p_incident_ds / 'i2edges.pkl').open('rb') as f:\n",
    "        i2edges = pickle.load(f)\n",
    "    with (p_incident_ds / 'v2edges.pkl').open('rb') as f:\n",
    "        v2edges = pickle.load(f)\n",
    "    n = len(v2edges)\n",
    "    nodes_sorted = sorted(v2edges)\n",
    "    degree_sorted = [len(v2edges[v]) for v in nodes_sorted]\n",
    "    cnt_degree = Counter(degree_sorted)\n",
    "    entropy_degree = -sum(n_d / n * math.log2(n_d / n) for n_d in cnt_degree.values())\n",
    "    t2info_gain = dict()\n",
    "    p_core_ds = p_core / ds_name\n",
    "    for c_t in tqdm(list(p_core_ds.glob('c*.pkl'))):\n",
    "        t = Fraction(c_t.name[2:-4].replace('-', '/'))\n",
    "        with c_t.open('rb') as f:\n",
    "            v2c_t = pickle.load(f)\n",
    "        c_t_sorted = [v2c_t[v] for v in nodes_sorted]\n",
    "        cnt_combined = Counter(zip(degree_sorted, c_t_sorted))\n",
    "        entropy_combined = -sum(n_c / n * math.log2(n_c / n) for n_c in cnt_combined.values())\n",
    "        t2info_gain[t] = entropy_combined - entropy_degree\n",
    "    with (p_dumps_ds / 't2info_gain.pkl').open('wb') as f:\n",
    "        pickle.dump(t2info_gain, f)\n",
    "\n",
    "    plt.clf()\n",
    "    step_plot(t2info_gain)\n",
    "    plt.xlabel('t')\n",
    "    plt.ylabel('info. gain')\n",
    "    plt.savefig(p_figures / '{}.png'.format(ds_name), bbox_inches='tight')\n",
    "    plt.savefig(p_figures / '{}.pdf'.format(ds_name), bbox_inches='tight')\n",
    "    plt.show()"
   ]
  },
  {
   "cell_type": "code",
   "execution_count": null,
   "metadata": {
    "pycharm": {
     "name": "#%%\n"
    }
   },
   "outputs": [],
   "source": [
    "ds2info_gains = dict()\n",
    "ds_num = len(ds_names)\n",
    "for ds_index, ds_name in enumerate(ds_names):\n",
    "    p_dumps_ds = p_dumps / ds_name\n",
    "    with (p_dumps_ds / 't2info_gain.pkl').open('rb') as f:\n",
    "        t2info_gain = pickle.load(f)\n",
    "    t_samples = np.linspace(0, 1, 100)\n",
    "    i_t = 0\n",
    "    info_gains = []\n",
    "    t_sorted = sorted(t2info_gain)\n",
    "    for t in t_sorted:\n",
    "        info_gain = t2info_gain[t]\n",
    "        if t < t_samples[i_t]:\n",
    "            continue\n",
    "        while t_samples[i_t] <= t:\n",
    "            info_gains.append(info_gain)\n",
    "            i_t += 1\n",
    "            if i_t >= len(t_samples):\n",
    "                break\n",
    "    assert len(info_gains) == len(t_samples)\n",
    "    ds2info_gains[ds_index] = info_gains[:]\n",
    "pearson_IG_matrix = np.ones((ds_num, ds_num))\n",
    "for i_1, i_2 in tqdm(list(combinations(range(ds_num), 2))):\n",
    "    info_gains_1 = ds2info_gains[i_1]\n",
    "    info_gains_2 = ds2info_gains[i_2]\n",
    "    r, _ = pearsonr(info_gains_1, info_gains_2)\n",
    "    pearson_IG_matrix[i_1][i_2] = pearson_IG_matrix[i_2][i_1] = r\n",
    "\n",
    "with Path('pearson_IG_matrix.pkl').open('wb') as f:\n",
    "    pickle.dump(pearson_IG_matrix, f)\n",
    "\n",
    "plt.rcParams.update({'font.size': 15})\n",
    "plt.clf()\n",
    "ax = sns.heatmap(pearson_IG_matrix, xticklabels=False, yticklabels=ds_names_short, cmap='RdBu')\n",
    "for ticklabel in ax.get_yticklabels():\n",
    "    ticklabel_text = ticklabel.get_text()\n",
    "    ds_index = ds_names_short.index(ticklabel_text)\n",
    "    tickcolor = colors_group[ds_index]\n",
    "    ticklabel.set_color(tickcolor)\n",
    "ax.figure.savefig('pearson_IG_matrix.png', bbox_inches='tight')\n",
    "ax.figure.savefig('pearson_IG_matrix.pdf', bbox_inches='tight')\n",
    "plt.show()\n",
    "\n",
    "r_total = []\n",
    "r_within = []\n",
    "r_cross = []\n",
    "for i_1, i_2 in tqdm(list(combinations(range(ds_num), 2))):\n",
    "    r = pearson_IG_matrix[i_1][i_2]\n",
    "    if ds_names[i_1].split('-')[0] == ds_names[i_2].split('-')[0]:\n",
    "        r_within.append(r)\n",
    "    else:\n",
    "        r_cross.append(r)\n",
    "    r_total.append(r)\n",
    "print('Global average: {:.3f}'.format(np.mean(r_total)))\n",
    "print('Within-domain average: {:.3f}'.format(np.mean(r_within)))\n",
    "print('Cross-domain average: {:.3f}'.format(np.mean(r_cross)))"
   ]
  }
 ],
 "metadata": {
  "kernelspec": {
   "display_name": "Python 3 (ipykernel)",
   "language": "python",
   "name": "python3"
  },
  "language_info": {
   "codemirror_mode": {
    "name": "ipython",
    "version": 3
   },
   "file_extension": ".py",
   "mimetype": "text/x-python",
   "name": "python",
   "nbconvert_exporter": "python",
   "pygments_lexer": "ipython3",
   "version": "3.9.7"
  }
 },
 "nbformat": 4,
 "nbformat_minor": 1
}
