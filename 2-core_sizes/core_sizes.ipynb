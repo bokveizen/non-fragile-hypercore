{
 "cells": [
  {
   "cell_type": "code",
   "execution_count": null,
   "metadata": {
    "pycharm": {
     "name": "#%% not necessary if using python -m\n"
    }
   },
   "outputs": [],
   "source": [
    "import sys; sys.path.append('..')"
   ]
  },
  {
   "cell_type": "code",
   "execution_count": null,
   "metadata": {
    "pycharm": {
     "name": "#%%\n"
    }
   },
   "outputs": [],
   "source": [
    "from fractions import Fraction\n",
    "from collections import defaultdict, Counter\n",
    "import pickle\n",
    "import matplotlib.pyplot as plt\n",
    "import numpy as np\n",
    "from itertools import combinations\n",
    "import math\n",
    "from tqdm import tqdm\n",
    "from pathlib import Path\n",
    "import seaborn as sns\n",
    "from util import max_size2possible_t, ds_names, ds_names_short, colors_group"
   ]
  },
  {
   "cell_type": "code",
   "execution_count": null,
   "metadata": {
    "pycharm": {
     "name": "#%%\n"
    }
   },
   "outputs": [],
   "source": [
    "colormap = plt.get_cmap('viridis')\n",
    "plt.rcParams.update({'font.size': 30})\n",
    "p_core = Path('../data/core')\n",
    "p_size = Path('../data/size')\n",
    "p_size.mkdir(exist_ok=True)\n",
    "for ds_name in ds_names:\n",
    "    p_core_ds = p_core / ds_name\n",
    "    p_size_ds = p_size / ds_name\n",
    "    p_size_ds.mkdir(exist_ok=True)\n",
    "    k2t_nkts = defaultdict(list)\n",
    "    N = None\n",
    "    for c_t in tqdm(list(p_core_ds.glob('c*.pkl'))):\n",
    "        t = Fraction(c_t.name[2:-4].replace('-', '/'))\n",
    "        with c_t.open('rb') as f:\n",
    "            v2c_t = pickle.load(f)\n",
    "        if N is None:\n",
    "            N = len(v2c_t)\n",
    "        cnt_c_t = Counter(v2c_t.values())\n",
    "        k2nkt = defaultdict(int)\n",
    "        for k, n in cnt_c_t.items():\n",
    "            for kk in range(1, k + 1):\n",
    "                k2nkt[kk] += n\n",
    "        for k, nkt in k2nkt.items():\n",
    "            k2t_nkts[k].append((t, nkt))\n",
    "    print('k2t_nkts constructed!')\n",
    "    for k, t_nkts in tqdm(k2t_nkts.items()):\n",
    "        t_nkts_new = []\n",
    "        for i, t_nkt in enumerate(t_nkts):\n",
    "            tt, nnkt = t_nkt\n",
    "            if i == 0 or t_nkt != t_nkts[i - 1]:\n",
    "                t_nkts_new.append((tt, nnkt))\n",
    "        t_nkts_new.sort()\n",
    "        k2t_nkts[k] = t_nkts_new[:]\n",
    "    print('k2t_nkts optimized!')\n",
    "    with (p_size_ds / 'k2t_nkts.pkl').open('wb') as f:\n",
    "        pickle.dump(k2t_nkts, f)\n",
    "    \n",
    "    \n",
    "    # with (p_size_ds / 'k2t_nkts.pkl').open('rb') as f:\n",
    "    #     k2t_nkts = pickle.load(f)\n",
    "\n",
    "    plt.clf()\n",
    "    for k, t_nkts in tqdm(k2t_nkts.items()):\n",
    "        if k == 1:\n",
    "            plt.bar(1, 1., 1, color=colormap(1.))\n",
    "        else:\n",
    "            for i, t_nkt in enumerate(t_nkts):\n",
    "                tt, nnkt = t_nkt\n",
    "                if i == 0:\n",
    "                    plt.bar(k, tt, 1, color=colormap(math.log(nnkt, N)))\n",
    "                else:\n",
    "                    nkt_prev = t_nkts[i - 1][0]\n",
    "                    plt.bar(k, tt - nkt_prev, 1, bottom=nkt_prev, color=colormap(math.log(nnkt, N)))\n",
    "    plt.xlabel('k')\n",
    "    plt.xscale('log')\n",
    "    plt.ylabel('t')\n",
    "    # plt.title('Hypercore sizes, ' + ds_name)\n",
    "    p_figures = Path('figures')\n",
    "    p_figures.mkdir(exist_ok=True)\n",
    "    plt.savefig(p_figures / '{ds}.png'.format(ds=ds_name), bbox_inches='tight')\n",
    "    # plt.savefig(p_figures / '{ds}.pdf'.format(ds=ds_name), bbox_inches='tight')\n",
    "    plt.show()\n"
   ]
  },
  {
   "cell_type": "code",
   "execution_count": null,
   "metadata": {
    "pycharm": {
     "name": "#%%\n"
    }
   },
   "outputs": [],
   "source": [
    "p_incident = Path('../data/incident')\n",
    "p_size = Path('../data/size')\n",
    "S = 10000\n",
    "ds_num = len(ds_names)\n",
    "HSMD_matrix = np.zeros((ds_num, ds_num))\n",
    "ds2rel_size = dict()\n",
    "for ds_name in tqdm(ds_names):\n",
    "    p_size_ds = p_size / ds_name\n",
    "    ds_index = ds_names.index(ds_name)\n",
    "    p_incident_ds = p_incident / ds_name\n",
    "    with (p_incident_ds / 'i2edges.pkl').open('rb') as f:\n",
    "        i2edges = pickle.load(f)\n",
    "    n = len(i2edges)\n",
    "    max_size = max(len(e) for e in i2edges.values())\n",
    "    possible_t = max_size2possible_t[max_size]\n",
    "    with (p_size_ds / 'k2t_nkts.pkl').open('rb') as f:\n",
    "        k2t_nkts = pickle.load(f)\n",
    "    k_max = max(k2t_nkts)\n",
    "    k_samples = [math.ceil(k_max ** x) for x in np.linspace(0, 1, S)]\n",
    "    t_samples = np.linspace(0, 1, 100)\n",
    "    rel_size_matrix = -np.ones((S, 100))\n",
    "    for i_k, k in enumerate(k_samples):\n",
    "        t_nkts = k2t_nkts[k]\n",
    "        i_t = 0\n",
    "        for t, nkt in t_nkts:\n",
    "            while t_samples[i_t] <= t:\n",
    "                rel_size_matrix[i_k][i_t] = math.log(nkt, n)\n",
    "                i_t += 1\n",
    "                if i_t >= len(t_samples):\n",
    "                    break\n",
    "    ds2rel_size[ds_index] = rel_size_matrix\n",
    "for i_1, i_2 in tqdm(list(combinations(range(ds_num), 2))):\n",
    "    rel_size_1 = ds2rel_size[i_1]\n",
    "    rel_size_2 = ds2rel_size[i_2]\n",
    "    HSMD_matrix[i_1][i_2] = HSMD_matrix[i_2][i_1] = np.sqrt(np.mean(np.square(np.clip(rel_size_1 - rel_size_2, -1, 1))))\n",
    "\n",
    "p_HSMD = Path('HSMD.pkl')\n",
    "with p_HSMD.open('wb') as f:\n",
    "    pickle.dump(HSMD_matrix, f)\n",
    "\n",
    "plt.rcParams.update({'font.size': 15})\n",
    "plt.clf()\n",
    "ax = sns.heatmap(HSMD_matrix, xticklabels=False, yticklabels=ds_names_short, cmap='RdBu')\n",
    "for ticklabel in ax.get_yticklabels():\n",
    "    ticklabel_text = ticklabel.get_text()\n",
    "    ds_index = ds_names_short.index(ticklabel_text)\n",
    "    tickcolor = colors_group[ds_index]\n",
    "    ticklabel.set_color(tickcolor)\n",
    "ax.figure.savefig('HSMD.png', bbox_inches='tight')\n",
    "ax.figure.savefig('HSMD.pdf', bbox_inches='tight')\n",
    "plt.show()\n",
    "\n",
    "dist_total = []\n",
    "dist_within = []\n",
    "dist_cross = []\n",
    "for i_1, i_2 in tqdm(list(combinations(range(ds_num), 2))):\n",
    "    HSMD = HSMD_matrix[i_1][i_2]\n",
    "    if ds_names[i_1].split('-')[0] == ds_names[i_2].split('-')[0]:\n",
    "        dist_within.append(HSMD)\n",
    "    else:\n",
    "        dist_cross.append(HSMD)\n",
    "    dist_total.append(HSMD)\n",
    "print('Global average: {:.3f}'.format(np.mean(dist_total)))\n",
    "print('Within-domain average: {:.3f}'.format(np.mean(dist_within)))\n",
    "print('Cross-domain average: {:.3f}'.format(np.mean(dist_cross)))"
   ]
  }
 ],
 "metadata": {
  "kernelspec": {
   "display_name": "Python 3 (ipykernel)",
   "language": "python",
   "name": "python3"
  },
  "language_info": {
   "codemirror_mode": {
    "name": "ipython",
    "version": 3
   },
   "file_extension": ".py",
   "mimetype": "text/x-python",
   "name": "python",
   "nbconvert_exporter": "python",
   "pygments_lexer": "ipython3",
   "version": "3.9.7"
  }
 },
 "nbformat": 4,
 "nbformat_minor": 1
}
